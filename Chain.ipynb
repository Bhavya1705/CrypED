{
 "cells": [
  {
   "cell_type": "code",
   "execution_count": 1,
   "id": "pending-florence",
   "metadata": {},
   "outputs": [
    {
     "name": "stdout",
     "output_type": "stream",
     "text": [
      "['Aurea', 'UNCoin', '15', 'CVOD2IBH6TGX5JKQ0NZBIU4VDDA0B58NRZUX1CX5YDE8MMHI2B5U2BQAOF3CDJO7BFSG73VZBYP5561UBFTIS0U488TQPWOJ68QS']\n",
      "['Sankar', 'UNCoin', '15', '50AUTQR234L9FIBJUGMRHV5HX02W69SPQIYLY4FPJHUQSQIUD193W3QJ00T9GXTJW0RY0MPXTNX3QH1K5W8C0G3UBPUNGUSLIJW3']\n",
      "['Bhavya', 'UNCoin', '15', 'S2AEZLVT1VF8RWOSXSXKYEOPI3D7Q80R92RRPLYJ91THWMSX1N3CXSHKBLC50U3DS47VDCXG614QPMQ7MTM0IVOWE3GBK25PZQXP']\n"
     ]
    }
   ],
   "source": [
    "import random \n",
    "import string\n",
    "class Node():\n",
    "    def __init__(self,value):\n",
    "        self.value=value\n",
    "        self.next=None\n",
    "class Chain():\n",
    "    def __init__(self):\n",
    "        self.end=None\n",
    "    def add(self,name,sender,amount):\n",
    "        self.name=name\n",
    "        self.sender=sender\n",
    "        self.amount=amount\n",
    "        self.idc=data=''.join(random.choices(string.ascii_uppercase + string.digits, k = 100))\n",
    "        element=Node([self.name,self.sender,self.amount,self.idc])\n",
    "        element.next=self.end\n",
    "        self.end=element\n",
    "    def print_chain(self):\n",
    "        temp=self.end\n",
    "        while temp:\n",
    "            print(temp.value)\n",
    "            temp=temp.next\n",
    "a=Chain()\n",
    "a.add(\"Bhavya\",\"UNCoin\",\"15\")\n",
    "a.add(\"Sankar\",\"UNCoin\",\"15\")\n",
    "a.add(\"Aurea\",\"UNCoin\",\"15\")\n",
    "a.print_chain()        "
   ]
  },
  {
   "cell_type": "code",
   "execution_count": 2,
   "id": "starting-agency",
   "metadata": {},
   "outputs": [],
   "source": [
    "class Wallet():\n",
    "    def __init__(self,name):\n",
    "        self.name=name\n",
    "    def pay(self,reciever,amount):\n",
    "        a.add(reciever,self.name,amount)\n",
    "b=Wallet(\"Shankar\")\n",
    "b.pay(\"Bhavya\",10)"
   ]
  },
  {
   "cell_type": "code",
   "execution_count": 3,
   "id": "retired-south",
   "metadata": {},
   "outputs": [
    {
     "name": "stdout",
     "output_type": "stream",
     "text": [
      "['Bhavya', 'Shankar', 10, '5S6DUKJ97SZP1OS19RSQLAF1IJRMRUEEYVK72JMMMBQB8TJV00ZMWY3DOD0C4FVIPZCGO2XXMDELKUO4CUIL69YM4VQVKQO28Q1O']\n",
      "['Aurea', 'UNCoin', '15', 'CVOD2IBH6TGX5JKQ0NZBIU4VDDA0B58NRZUX1CX5YDE8MMHI2B5U2BQAOF3CDJO7BFSG73VZBYP5561UBFTIS0U488TQPWOJ68QS']\n",
      "['Sankar', 'UNCoin', '15', '50AUTQR234L9FIBJUGMRHV5HX02W69SPQIYLY4FPJHUQSQIUD193W3QJ00T9GXTJW0RY0MPXTNX3QH1K5W8C0G3UBPUNGUSLIJW3']\n",
      "['Bhavya', 'UNCoin', '15', 'S2AEZLVT1VF8RWOSXSXKYEOPI3D7Q80R92RRPLYJ91THWMSX1N3CXSHKBLC50U3DS47VDCXG614QPMQ7MTM0IVOWE3GBK25PZQXP']\n"
     ]
    }
   ],
   "source": [
    "a.print_chain()  "
   ]
  },
  {
   "cell_type": "code",
   "execution_count": null,
   "id": "identical-defeat",
   "metadata": {},
   "outputs": [],
   "source": []
  }
 ],
 "metadata": {
  "kernelspec": {
   "display_name": "Python 3",
   "language": "python",
   "name": "python3"
  },
  "language_info": {
   "codemirror_mode": {
    "name": "ipython",
    "version": 3
   },
   "file_extension": ".py",
   "mimetype": "text/x-python",
   "name": "python",
   "nbconvert_exporter": "python",
   "pygments_lexer": "ipython3",
   "version": "3.7.8"
  }
 },
 "nbformat": 4,
 "nbformat_minor": 5
}
