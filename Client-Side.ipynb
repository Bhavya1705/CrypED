{
 "cells": [
  {
   "cell_type": "markdown",
   "id": "least-isaac",
   "metadata": {},
   "source": [
    "# Creating Random Data that needs to be computed"
   ]
  },
  {
   "cell_type": "code",
   "execution_count": 1,
   "id": "western-timber",
   "metadata": {},
   "outputs": [],
   "source": [
    "import numpy as np\n",
    "operations=(\"+\",\"-\",\"*\")\n",
    "input_arr=[0]*7\n",
    "input_arr[0]=(np.random.rand(3,3))\n",
    "input_arr[1]=(np.random.rand(3,3))\n",
    "input_arr[2]=(np.random.rand(3,3))\n",
    "input_arr[3]=(np.random.rand(3,3))\n",
    "input_arr[4]=(np.random.rand(3,3))\n",
    "input_arr[5]=(np.random.rand(3,3))\n",
    "operation=\"input_arr[0]\"+np.random.choice(operations)+\"input_arr[1]\"+np.random.choice(operations)+\"input_arr[2]\"+np.random.choice(operations)+\"input_arr[3]\"+np.random.choice(operations)+\"input_arr[4]\"+np.random.choice(operations)+\"input_arr[5]\"\n",
    "data_upload=[repr(input_arr[0].tolist()),repr(input_arr[1].tolist()),repr(input_arr[2].tolist()),repr(input_arr[3].tolist()),repr(input_arr[4].tolist()),repr(input_arr[5].tolist()),operation]\n",
    "OGResult=eval(operation)"
   ]
  },
  {
   "cell_type": "markdown",
   "id": "unauthorized-acquisition",
   "metadata": {},
   "source": [
    "## Operation to be performed"
   ]
  },
  {
   "cell_type": "code",
   "execution_count": 2,
   "id": "initial-luxury",
   "metadata": {},
   "outputs": [
    {
     "data": {
      "text/plain": [
       "'input_arr[0]-input_arr[1]*input_arr[2]+input_arr[3]+input_arr[4]*input_arr[5]'"
      ]
     },
     "execution_count": 2,
     "metadata": {},
     "output_type": "execute_result"
    }
   ],
   "source": [
    "operation"
   ]
  },
  {
   "cell_type": "markdown",
   "id": "designed-patio",
   "metadata": {},
   "source": [
    "# Connect to Peer Network"
   ]
  },
  {
   "cell_type": "code",
   "execution_count": 3,
   "id": "declared-skating",
   "metadata": {},
   "outputs": [],
   "source": [
    "import socket \n",
    "s = socket.socket(socket.AF_INET,socket.SOCK_STREAM)\n",
    "port = 1501\n",
    "s.connect(('127.0.0.1', port))"
   ]
  },
  {
   "cell_type": "code",
   "execution_count": 4,
   "id": "atmospheric-turkey",
   "metadata": {},
   "outputs": [
    {
     "name": "stdout",
     "output_type": "stream",
     "text": [
      "200: Recieved Request for Connection, Connect?:\n",
      "Connected\n",
      "ConnectedNext\n",
      "Next 0\n",
      "Next\n",
      "Next 1\n",
      "Next\n",
      "Next 2\n",
      "Next\n",
      "Next 3\n",
      "Next\n",
      "Next 4\n",
      "Next\n",
      "Next 5\n",
      "End\n"
     ]
    }
   ],
   "source": [
    "response=s.recv(1024)\n",
    "response=str(response,'utf-8') \n",
    "print(response)\n",
    "s.send(bytes(\"Connection\",'utf-8'))\n",
    "if response.find('Connected')==-1:\n",
    "    print(\"Connected\")\n",
    "    for i in range(len(data_upload)):\n",
    "        s.send(bytes(data_upload[i],'utf-8'))\n",
    "        response=s.recv(1024)\n",
    "        response=str(response,'utf-8')\n",
    "        print(response)\n",
    "        while response.find(\"Next\")==-1:\n",
    "            if response.find(\"End\")!=-1:\n",
    "                break\n",
    "            print(\"Wait\")\n",
    "            response=s.recv(1024)\n",
    "            response=str(response,'utf-8')\n",
    "        else:\n",
    "            print(\"Next\",i)\n",
    "    response=s.recv(1024)\n",
    "    response=str(response,'utf-8')\n",
    "    result=np.asarray(eval(response))"
   ]
  },
  {
   "cell_type": "markdown",
   "id": "imperial-novelty",
   "metadata": {},
   "source": [
    "# Validating Results"
   ]
  },
  {
   "cell_type": "code",
   "execution_count": 5,
   "id": "satisfied-mileage",
   "metadata": {},
   "outputs": [
    {
     "data": {
      "text/plain": [
       "array([[0., 0., 0.],\n",
       "       [0., 0., 0.],\n",
       "       [0., 0., 0.]])"
      ]
     },
     "execution_count": 5,
     "metadata": {},
     "output_type": "execute_result"
    }
   ],
   "source": [
    "result-OGResult"
   ]
  },
  {
   "cell_type": "code",
   "execution_count": null,
   "id": "guided-waterproof",
   "metadata": {},
   "outputs": [],
   "source": []
  },
  {
   "cell_type": "code",
   "execution_count": null,
   "id": "adaptive-robinson",
   "metadata": {},
   "outputs": [],
   "source": []
  },
  {
   "cell_type": "code",
   "execution_count": null,
   "id": "valuable-interim",
   "metadata": {},
   "outputs": [],
   "source": []
  }
 ],
 "metadata": {
  "kernelspec": {
   "display_name": "Python 3",
   "language": "python",
   "name": "python3"
  },
  "language_info": {
   "codemirror_mode": {
    "name": "ipython",
    "version": 3
   },
   "file_extension": ".py",
   "mimetype": "text/x-python",
   "name": "python",
   "nbconvert_exporter": "python",
   "pygments_lexer": "ipython3",
   "version": "3.7.8"
  }
 },
 "nbformat": 4,
 "nbformat_minor": 5
}
