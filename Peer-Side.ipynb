{
 "cells": [
  {
   "cell_type": "code",
   "execution_count": 1,
   "id": "adapted-monaco",
   "metadata": {},
   "outputs": [],
   "source": [
    "import numpy as np\n",
    "import socket\n",
    "import ast\n",
    "import time\n",
    "import platform,socket,re,uuid,json,psutil,logging\n",
    "coin=0"
   ]
  },
  {
   "cell_type": "code",
   "execution_count": 2,
   "id": "suspected-arbor",
   "metadata": {},
   "outputs": [],
   "source": [
    "def getSystemInfo():\n",
    "    try:\n",
    "        info={}\n",
    "        info['platform']=platform.system()\n",
    "        info['platform-release']=platform.release()\n",
    "        info['platform-version']=platform.version()\n",
    "        info['architecture']=platform.machine()\n",
    "        info['hostname']=socket.gethostname()\n",
    "        info['ip-address']=socket.gethostbyname(socket.gethostname())\n",
    "        info['mac-address']=':'.join(re.findall('..', '%012x' % uuid.getnode()))\n",
    "        info['processor']=platform.processor()\n",
    "        info['ram']=str(round(psutil.virtual_memory().total / (1024.0 **3)))+\" GB\"\n",
    "        return json.dumps(info)\n",
    "    except Exception as e:\n",
    "        logging.exception(e)"
   ]
  },
  {
   "cell_type": "code",
   "execution_count": 3,
   "id": "miniature-daisy",
   "metadata": {},
   "outputs": [
    {
     "name": "stdout",
     "output_type": "stream",
     "text": [
      "Enter your Unique Username: Bhavya\n",
      "Computer Properties........................\n",
      "{'platform': 'Linux', 'platform-release': '5.8.0-49-generic', 'platform-version': '#55~20.04.1-Ubuntu SMP Fri Mar 26 01:01:07 UTC 2021', 'architecture': 'x86_64', 'hostname': 'bhavyabhardwaj', 'ip-address': '127.0.1.1', 'mac-address': '29:7c:35:e1:90:e8', 'processor': 'x86_64', 'ram': '16 GB'}\n",
      "...........................................\n",
      "\n"
     ]
    }
   ],
   "source": [
    "name=input(\"Enter your Unique Username: \")\n",
    "print(\"Computer Properties........................\")\n",
    "print(json.loads(getSystemInfo()))\n",
    "print(\"...........................................\\n\")\n",
    "s = socket.socket(socket.AF_INET,socket.SOCK_STREAM)\n",
    "port = 1500\n",
    "s.connect(('127.0.0.1', port))\n",
    "c=s\n",
    "input_arr=[]\n",
    "c.send(bytes(name,'utf-8'))\n",
    "time_now=time.time()\n",
    "while True:\n",
    "    if len(input_arr)>=6:\n",
    "        response=c.recv(1024)\n",
    "        response=str(response,'utf-8')\n",
    "        operation=response\n",
    "        break\n",
    "    response=c.recv(1024)\n",
    "    response=repr(str(response,'utf-8'))\n",
    "    response=(ast.literal_eval(response))\n",
    "    input_arr.append(np.asarray(eval(response)))\n",
    "result=eval(operation)\n",
    "c.send(bytes(str(result.tolist()),'utf-8'))   \n",
    "payout=time.time()-time_now\n",
    "response=c.recv(1024)\n",
    "response=float(str(response,'utf-8'))\n",
    "coin=coin+response"
   ]
  },
  {
   "cell_type": "code",
   "execution_count": 4,
   "id": "little-level",
   "metadata": {},
   "outputs": [
    {
     "name": "stdout",
     "output_type": "stream",
     "text": [
      "Your Coin is 0.008975505828857422\n"
     ]
    }
   ],
   "source": [
    "print(\"Your Coin is\",coin)"
   ]
  },
  {
   "cell_type": "code",
   "execution_count": null,
   "id": "threaded-warehouse",
   "metadata": {},
   "outputs": [],
   "source": [
    "\n",
    "\n"
   ]
  },
  {
   "cell_type": "code",
   "execution_count": null,
   "id": "authentic-launch",
   "metadata": {},
   "outputs": [],
   "source": []
  }
 ],
 "metadata": {
  "kernelspec": {
   "display_name": "Python 3",
   "language": "python",
   "name": "python3"
  },
  "language_info": {
   "codemirror_mode": {
    "name": "ipython",
    "version": 3
   },
   "file_extension": ".py",
   "mimetype": "text/x-python",
   "name": "python",
   "nbconvert_exporter": "python",
   "pygments_lexer": "ipython3",
   "version": "3.7.8"
  }
 },
 "nbformat": 4,
 "nbformat_minor": 5
}
