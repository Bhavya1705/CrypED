{
 "cells": [
  {
   "cell_type": "code",
   "execution_count": 1,
   "id": "right-preserve",
   "metadata": {},
   "outputs": [],
   "source": [
    "import random \n",
    "import string\n",
    "class Node():\n",
    "    def __init__(self,value):\n",
    "        self.value=value\n",
    "        self.next=None\n",
    "class Chain():\n",
    "    def __init__(self):\n",
    "        self.end=None\n",
    "    def add(self,name,sender,amount):\n",
    "        self.name=name\n",
    "        self.sender=sender\n",
    "        self.amount=amount\n",
    "        self.idc=data=''.join(random.choices(string.ascii_uppercase + string.digits, k = 100))\n",
    "        element=Node([self.name,self.sender,self.amount,self.idc])\n",
    "        element.next=self.end\n",
    "        self.end=element\n",
    "    def print_chain(self):\n",
    "        temp=self.end\n",
    "        while temp:\n",
    "            print(temp.value)\n",
    "            temp=temp.next        "
   ]
  },
  {
   "cell_type": "code",
   "execution_count": 2,
   "id": "lightweight-institute",
   "metadata": {},
   "outputs": [],
   "source": [
    "class Wallet():\n",
    "    def __init__(self,name):\n",
    "        self.name=name\n",
    "    def pay(self,reciever,amount):\n",
    "        a.add(reciever,self.name,amount)\n",
    "a=Chain()\n",
    "b=Wallet(\"Shankar\")\n",
    "b.pay(\"Bhavya\",10)"
   ]
  },
  {
   "cell_type": "code",
   "execution_count": 3,
   "id": "seven-contrast",
   "metadata": {},
   "outputs": [],
   "source": [
    "class Peer():\n",
    "    def __init__(self,name,specifications):\n",
    "        self.name=name\n",
    "        self.spec=specifications"
   ]
  },
  {
   "cell_type": "code",
   "execution_count": 4,
   "id": "behind-clerk",
   "metadata": {},
   "outputs": [
    {
     "name": "stdout",
     "output_type": "stream",
     "text": [
      "Connected with <socket.socket fd=60, family=AddressFamily.AF_INET, type=SocketKind.SOCK_STREAM, proto=0, laddr=('127.0.0.1', 1500), raddr=('127.0.0.1', 33004)>\n",
      "Got connection from ('127.0.0.1', 35416)\n",
      "Conected with  ('127.0.0.1', 35416)\n",
      "[[0.3632532267897638, 0.9636202185500462, 0.2748421041663691], [0.8027187215173947, 0.8632124354008405, 0.9677952133405598], [0.1875444058173663, 0.5530681055160022, 0.19392571975003525]]\n",
      "[[0.34943995500973746, 0.20279411340293463, 0.3959210116698154], [0.8546900946292596, 0.30542904927838055, 0.1529088837842144], [0.9387259864011198, 0.939665228758715, 0.07866202206082462]]\n",
      "[[0.8749695178910857, 0.3342644026616136, 0.6415878503606717], [0.9511857683998739, 0.2334537245551812, 0.9487853289391114], [0.9712204046211729, 0.43365315305344965, 0.12377764797311441]]\n",
      "[[0.7659595718056004, 0.9970478409063571, 0.3005564170096702], [0.9276836871071964, 0.09838266375384741, 0.5545090747185205], [0.9635367780932934, 0.7344216157227419, 0.8023395384983028]]\n",
      "[[0.7507376931230031, 0.3418064420155442, 0.8092007323565016], [0.9682898747126988, 0.07658307801457087, 0.09927891651192056], [0.06012584987827829, 0.44504408214213276, 0.4077057179257745]]\n",
      "[[0.9867264084431059, 0.4357346893113968, 0.44332613523545783], [0.6670422785761324, 0.5149327389139546, 0.5955713328510067], [0.8672670785766202, 0.24410675328760056, 0.6443071758150771]]\n",
      "input_arr[0]-input_arr[1]*input_arr[2]+input_arr[3]+input_arr[4]*input_arr[5]\n"
     ]
    }
   ],
   "source": [
    "import socket \n",
    "import time\n",
    "import ast\n",
    "ss = socket.socket()\n",
    "port =1500\n",
    "ss.bind(('', port))\n",
    "sc = socket.socket()\n",
    "port =1501\n",
    "sc.bind(('', port))\n",
    "while True:\n",
    "    ss.listen(5)\n",
    "    cs, addrs = ss.accept()\n",
    "    print(\"Connected with\",cs)\n",
    "    response=cs.recv(1024)\n",
    "    name=str(response,'utf-8')\n",
    "    sc.listen(5)\n",
    "    cc, addrc = sc.accept()\n",
    "    print ('Got connection from', addrc ) \n",
    "    cc.send(bytes('200: Recieved Request for Connection, Connect?:','utf-8')) \n",
    "    response=cc.recv(1024)\n",
    "    response=str(response,'utf-8') \n",
    "    if response.find(\"Connect\")!=-1:\n",
    "        print(\"Conected with \",addrc)\n",
    "        cc.send(bytes(\"Connected\",'utf-8'))\n",
    "        time_now=time.time()\n",
    "        counter=1\n",
    "        while True:\n",
    "            if counter>=7:\n",
    "                response=cc.recv(1024)\n",
    "                cs.send(response)\n",
    "                response=str(response,'utf-8')\n",
    "                operation=response\n",
    "                print(response)\n",
    "                cc.send(bytes(\"End\",'utf-8'))\n",
    "                break\n",
    "            response=cc.recv(1024)\n",
    "            cs.send(response)\n",
    "            response=repr(str(response,'utf-8'))\n",
    "            response=(ast.literal_eval(response))\n",
    "            print(response)\n",
    "            cc.send(bytes(\"Next\",'utf-8'))\n",
    "            counter+=1\n",
    "        result=cs.recv(1024)\n",
    "        payout=time.time()-time_now\n",
    "        cc.send(result)\n",
    "        cs.send(bytes(str(payout),'utf-8'))\n",
    "    a.add(name,\"UNCoin\",payout)\n",
    "    break"
   ]
  },
  {
   "cell_type": "code",
   "execution_count": 5,
   "id": "further-demographic",
   "metadata": {},
   "outputs": [],
   "source": [
    "sc.close()\n",
    "ss.close()"
   ]
  },
  {
   "cell_type": "code",
   "execution_count": 6,
   "id": "distinct-gathering",
   "metadata": {},
   "outputs": [
    {
     "name": "stdout",
     "output_type": "stream",
     "text": [
      "['Bhavya', 'UNCoin', 0.008975505828857422, 'X650P8KR1A7KPOHTFLW20PTB1TMX489AEPQ7YZDZV6T5GMEA902VC5MZRG7HGFX904P6XMJYY5XI9SJDTYTSBPMHH244WPR4Q1UM']\n",
      "['Bhavya', 'Shankar', 10, '5R6VRV6UC7ZYH6KD9O7UJFWFZKU47VZZN17HMPLO1ZP8LNO9QO8MUFEQZM0FE76WHF9W89LO2AAS1BV3KPXIF0FI6D2G1Q1JEVGO']\n"
     ]
    }
   ],
   "source": [
    "a.print_chain()"
   ]
  },
  {
   "cell_type": "code",
   "execution_count": null,
   "id": "excellent-camel",
   "metadata": {},
   "outputs": [],
   "source": []
  }
 ],
 "metadata": {
  "kernelspec": {
   "display_name": "Python 3",
   "language": "python",
   "name": "python3"
  },
  "language_info": {
   "codemirror_mode": {
    "name": "ipython",
    "version": 3
   },
   "file_extension": ".py",
   "mimetype": "text/x-python",
   "name": "python",
   "nbconvert_exporter": "python",
   "pygments_lexer": "ipython3",
   "version": "3.7.8"
  }
 },
 "nbformat": 4,
 "nbformat_minor": 5
}
